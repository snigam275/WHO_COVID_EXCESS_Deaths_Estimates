{
 "cells": [
  {
   "cell_type": "code",
   "execution_count": 51,
   "id": "30e190e5-4d98-4dd7-bf36-f618c73172aa",
   "metadata": {},
   "outputs": [
    {
     "name": "stdout",
     "output_type": "stream",
     "text": [
      "\n",
      "Delete specific column:\n",
      "           country  year     sex age_group       type  expected.mean  \\\n",
      "0     Afghanistan  2020  Female      0-24  predicted   49083.643934   \n",
      "1     Afghanistan  2020  Female     25-34  predicted    6452.967039   \n",
      "2     Afghanistan  2020  Female     35-44  predicted    6117.873106   \n",
      "3     Afghanistan  2020  Female     45-54  predicted    7711.689531   \n",
      "4     Afghanistan  2020  Female     55-64  predicted   10061.544157   \n",
      "...           ...   ...     ...       ...        ...            ...   \n",
      "6203     Zimbabwe  2021    Male     45-54  predicted    6475.353578   \n",
      "6204     Zimbabwe  2021    Male     55-64  predicted    5901.109209   \n",
      "6205     Zimbabwe  2021    Male     65-74  predicted    7714.069131   \n",
      "6206     Zimbabwe  2021    Male     75-84  predicted    4780.280746   \n",
      "6207     Zimbabwe  2021    Male       >85  predicted    1790.340902   \n",
      "\n",
      "          acm.mean  excess.mean*  \n",
      "0     49103.143153      0.000000  \n",
      "1      6691.247219    236.607817  \n",
      "2      6977.363939    860.300714  \n",
      "3      9330.217317   1621.571806  \n",
      "4     12457.985086   2401.488971  \n",
      "...            ...           ...  \n",
      "6203   8090.749259   1615.877864  \n",
      "6204   7102.297334   1201.464345  \n",
      "6205   9015.997147   1302.127496  \n",
      "6206   5374.668326    594.383262  \n",
      "6207   2231.968014    441.757413  \n",
      "\n",
      "[6208 rows x 8 columns]\n"
     ]
    }
   ],
   "source": [
    "#importing required dataset to work on it\n",
    "import pandas as pd\n",
    "import matplotlib.pyplot as plt\n",
    "import numpy as np\n",
    "import seaborn as sns\n",
    "file_path = \"C:\\\\Users\\\\shrey\\\\Desktop\\\\Python_dashboard_excel_sheet\\\\WHO_COVID_EXCESS_Deaths_Estimates_by_country.xlsx\"\n",
    "data = pd.read_excel(file_path)\n",
    "data\n",
    "\n",
    "#To display the information of the dataset\n",
    "data.info()\n",
    "data.head()\n",
    "print(\"\\nSummary of the dataset: \\n\",data.describe())\n",
    "print(\"\\nColumn Names:\\n\", data.columns)\n",
    "print(\"\\nUnique Values:\\n \",data.nunique())  #use to count unique values.\n",
    "\n",
    "\n",
    "#Handling the missing data\n",
    "print(\"\\nMissing Values in Each Column:\\n\",data.isnull().sum())\n",
    "print(\"\\nIf null values, then fill with NaN: \\n\", data.dropna())  #use to replace (if there) any null values present in the dataset with NaN\n",
    "\n",
    "#(If we want to delete specific column or row, we use drop() with label/index of column or row)\n",
    "print(\"\\nDelete specific column:\\n\",data.drop(columns=[\"iso3\"]))"
   ]
  },
  {
   "cell_type": "code",
   "execution_count": null,
   "id": "28523218-1ba0-48b1-9e35-5aca67322a14",
   "metadata": {},
   "outputs": [],
   "source": []
  }
 ],
 "metadata": {
  "kernelspec": {
   "display_name": "Python [conda env:base] *",
   "language": "python",
   "name": "conda-base-py"
  },
  "language_info": {
   "codemirror_mode": {
    "name": "ipython",
    "version": 3
   },
   "file_extension": ".py",
   "mimetype": "text/x-python",
   "name": "python",
   "nbconvert_exporter": "python",
   "pygments_lexer": "ipython3",
   "version": "3.12.3"
  }
 },
 "nbformat": 4,
 "nbformat_minor": 5
}
